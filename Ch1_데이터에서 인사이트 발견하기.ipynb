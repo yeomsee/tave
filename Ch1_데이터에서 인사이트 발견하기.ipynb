{
 "cells": [
  {
   "cell_type": "markdown",
   "id": "8eba7bfb",
   "metadata": {},
   "source": [
    "## 데이터 외형 탐색"
   ]
  },
  {
   "cell_type": "markdown",
   "id": "d350b1eb",
   "metadata": {},
   "source": [
    "* 데이터의 이름, 구성요소, 출처, 주제\n",
    "* 데이터의 크기(샘플링: 데이터가 크면 일부 값을 추출하는 방식)\n",
    "* 데이터의 피처(피처: 키, 몸무게 등 데이터의 구성 요소)"
   ]
  },
  {
   "cell_type": "markdown",
   "id": "3b2c6f02",
   "metadata": {},
   "source": [
    "## 데이터 속성 탐색"
   ]
  },
  {
   "cell_type": "markdown",
   "id": "17d379b4",
   "metadata": {},
   "source": [
    "* 피처 속성 탐색(측정 가능한 정량적 속성)\n",
    "* 피처 간 상관관계 탐색"
   ]
  },
  {
   "cell_type": "markdown",
   "id": "66602035",
   "metadata": {},
   "source": [
    "## 데이터 시각화"
   ]
  },
  {
   "cell_type": "markdown",
   "id": "851237c1",
   "metadata": {},
   "source": [
    "* 시각자료를 통한 패턴 및 인사이트 발견 가능"
   ]
  }
 ],
 "metadata": {
  "kernelspec": {
   "display_name": "Python 3 (ipykernel)",
   "language": "python",
   "name": "python3"
  },
  "language_info": {
   "codemirror_mode": {
    "name": "ipython",
    "version": 3
   },
   "file_extension": ".py",
   "mimetype": "text/x-python",
   "name": "python",
   "nbconvert_exporter": "python",
   "pygments_lexer": "ipython3",
   "version": "3.9.12"
  }
 },
 "nbformat": 4,
 "nbformat_minor": 5
}
