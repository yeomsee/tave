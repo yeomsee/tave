{
 "cells": [
  {
   "cell_type": "code",
   "execution_count": 1,
   "id": "e2103da4",
   "metadata": {},
   "outputs": [],
   "source": [
    "import pandas as pd\n",
    "import numpy as np\n",
    "import seaborn as sns\n",
    "import matplotlib.pyplot as plt\n",
    "%matplotlib inline\n",
    "import warnings\n",
    "warnings.filterwarnings(\"ignore\")"
   ]
  },
  {
   "cell_type": "code",
   "execution_count": 2,
   "id": "1da04607",
   "metadata": {},
   "outputs": [
    {
     "data": {
      "text/html": [
       "<div>\n",
       "<style scoped>\n",
       "    .dataframe tbody tr th:only-of-type {\n",
       "        vertical-align: middle;\n",
       "    }\n",
       "\n",
       "    .dataframe tbody tr th {\n",
       "        vertical-align: top;\n",
       "    }\n",
       "\n",
       "    .dataframe thead th {\n",
       "        text-align: right;\n",
       "    }\n",
       "</style>\n",
       "<table border=\"1\" class=\"dataframe\">\n",
       "  <thead>\n",
       "    <tr style=\"text-align: right;\">\n",
       "      <th></th>\n",
       "      <th>age</th>\n",
       "      <th>gender</th>\n",
       "      <th>height_cm</th>\n",
       "      <th>weight_kg</th>\n",
       "      <th>body fat_%</th>\n",
       "      <th>diastolic</th>\n",
       "      <th>systolic</th>\n",
       "      <th>gripForce</th>\n",
       "      <th>sit and bend forward_cm</th>\n",
       "      <th>sit-ups counts</th>\n",
       "      <th>broad jump_cm</th>\n",
       "      <th>class</th>\n",
       "    </tr>\n",
       "  </thead>\n",
       "  <tbody>\n",
       "    <tr>\n",
       "      <th>0</th>\n",
       "      <td>27.0</td>\n",
       "      <td>M</td>\n",
       "      <td>172.3</td>\n",
       "      <td>75.24</td>\n",
       "      <td>21.3</td>\n",
       "      <td>80.0</td>\n",
       "      <td>130.0</td>\n",
       "      <td>54.9</td>\n",
       "      <td>18.4</td>\n",
       "      <td>60.0</td>\n",
       "      <td>217.0</td>\n",
       "      <td>C</td>\n",
       "    </tr>\n",
       "    <tr>\n",
       "      <th>1</th>\n",
       "      <td>25.0</td>\n",
       "      <td>M</td>\n",
       "      <td>165.0</td>\n",
       "      <td>55.80</td>\n",
       "      <td>15.7</td>\n",
       "      <td>77.0</td>\n",
       "      <td>126.0</td>\n",
       "      <td>36.4</td>\n",
       "      <td>16.3</td>\n",
       "      <td>53.0</td>\n",
       "      <td>229.0</td>\n",
       "      <td>A</td>\n",
       "    </tr>\n",
       "    <tr>\n",
       "      <th>2</th>\n",
       "      <td>31.0</td>\n",
       "      <td>M</td>\n",
       "      <td>179.6</td>\n",
       "      <td>78.00</td>\n",
       "      <td>20.1</td>\n",
       "      <td>92.0</td>\n",
       "      <td>152.0</td>\n",
       "      <td>44.8</td>\n",
       "      <td>12.0</td>\n",
       "      <td>49.0</td>\n",
       "      <td>181.0</td>\n",
       "      <td>C</td>\n",
       "    </tr>\n",
       "    <tr>\n",
       "      <th>3</th>\n",
       "      <td>32.0</td>\n",
       "      <td>M</td>\n",
       "      <td>174.5</td>\n",
       "      <td>71.10</td>\n",
       "      <td>18.4</td>\n",
       "      <td>76.0</td>\n",
       "      <td>147.0</td>\n",
       "      <td>41.4</td>\n",
       "      <td>15.2</td>\n",
       "      <td>53.0</td>\n",
       "      <td>219.0</td>\n",
       "      <td>B</td>\n",
       "    </tr>\n",
       "    <tr>\n",
       "      <th>4</th>\n",
       "      <td>28.0</td>\n",
       "      <td>M</td>\n",
       "      <td>173.8</td>\n",
       "      <td>67.70</td>\n",
       "      <td>17.1</td>\n",
       "      <td>70.0</td>\n",
       "      <td>127.0</td>\n",
       "      <td>43.5</td>\n",
       "      <td>27.1</td>\n",
       "      <td>45.0</td>\n",
       "      <td>217.0</td>\n",
       "      <td>B</td>\n",
       "    </tr>\n",
       "  </tbody>\n",
       "</table>\n",
       "</div>"
      ],
      "text/plain": [
       "    age gender  height_cm  weight_kg  body fat_%  diastolic  systolic  \\\n",
       "0  27.0      M      172.3      75.24        21.3       80.0     130.0   \n",
       "1  25.0      M      165.0      55.80        15.7       77.0     126.0   \n",
       "2  31.0      M      179.6      78.00        20.1       92.0     152.0   \n",
       "3  32.0      M      174.5      71.10        18.4       76.0     147.0   \n",
       "4  28.0      M      173.8      67.70        17.1       70.0     127.0   \n",
       "\n",
       "   gripForce  sit and bend forward_cm  sit-ups counts  broad jump_cm class  \n",
       "0       54.9                     18.4            60.0          217.0     C  \n",
       "1       36.4                     16.3            53.0          229.0     A  \n",
       "2       44.8                     12.0            49.0          181.0     C  \n",
       "3       41.4                     15.2            53.0          219.0     B  \n",
       "4       43.5                     27.1            45.0          217.0     B  "
      ]
     },
     "execution_count": 2,
     "metadata": {},
     "output_type": "execute_result"
    }
   ],
   "source": [
    "# 데이터 불러오기 및 확인\n",
    "df = pd.read_csv(\"C:/datasets/bodyPerformance.csv\")\n",
    "df.head()"
   ]
  },
  {
   "cell_type": "code",
   "execution_count": 3,
   "id": "586af38e",
   "metadata": {
    "scrolled": true
   },
   "outputs": [
    {
     "name": "stdout",
     "output_type": "stream",
     "text": [
      "<class 'pandas.core.frame.DataFrame'>\n",
      "RangeIndex: 13393 entries, 0 to 13392\n",
      "Data columns (total 12 columns):\n",
      " #   Column                   Non-Null Count  Dtype  \n",
      "---  ------                   --------------  -----  \n",
      " 0   age                      13393 non-null  float64\n",
      " 1   gender                   13393 non-null  object \n",
      " 2   height_cm                13393 non-null  float64\n",
      " 3   weight_kg                13393 non-null  float64\n",
      " 4   body fat_%               13393 non-null  float64\n",
      " 5   diastolic                13393 non-null  float64\n",
      " 6   systolic                 13393 non-null  float64\n",
      " 7   gripForce                13393 non-null  float64\n",
      " 8   sit and bend forward_cm  13393 non-null  float64\n",
      " 9   sit-ups counts           13393 non-null  float64\n",
      " 10  broad jump_cm            13393 non-null  float64\n",
      " 11  class                    13393 non-null  object \n",
      "dtypes: float64(10), object(2)\n",
      "memory usage: 1.2+ MB\n"
     ]
    }
   ],
   "source": [
    "# 칼럼정보 확인\n",
    "df.info()"
   ]
  },
  {
   "cell_type": "code",
   "execution_count": 4,
   "id": "5aa9db27",
   "metadata": {},
   "outputs": [
    {
     "data": {
      "text/plain": [
       "<AxesSubplot: xlabel='height_cm', ylabel='weight_kg'>"
      ]
     },
     "execution_count": 4,
     "metadata": {},
     "output_type": "execute_result"
    },
    {
     "data": {
      "image/png": "[encoded data removed]",
      "text/plain": [
       "<Figure size 640x480 with 1 Axes>"
      ]
     },
     "metadata": {},
     "output_type": "display_data"
    }
   ],
   "source": [
    "# 키에 따른 몸무게 (남여 구분 )시각화\n",
    "sns.kdeplot(data=df, x='height_cm', y='weight_kg', hue='gender')"
   ]
  },
  {
   "cell_type": "markdown",
   "id": "a64ca146",
   "metadata": {},
   "source": [
    "---"
   ]
  },
  {
   "cell_type": "code",
   "execution_count": 5,
   "id": "92135d7f",
   "metadata": {},
   "outputs": [],
   "source": [
    "from sklearn.preprocessing import MinMaxScaler\n",
    "from sklearn.model_selection import train_test_split"
   ]
  },
  {
   "cell_type": "code",
   "execution_count": 6,
   "id": "73f8048a",
   "metadata": {},
   "outputs": [
    {
     "data": {
      "text/html": [
       "<div>\n",
       "<style scoped>\n",
       "    .dataframe tbody tr th:only-of-type {\n",
       "        vertical-align: middle;\n",
       "    }\n",
       "\n",
       "    .dataframe tbody tr th {\n",
       "        vertical-align: top;\n",
       "    }\n",
       "\n",
       "    .dataframe thead th {\n",
       "        text-align: right;\n",
       "    }\n",
       "</style>\n",
       "<table border=\"1\" class=\"dataframe\">\n",
       "  <thead>\n",
       "    <tr style=\"text-align: right;\">\n",
       "      <th></th>\n",
       "      <th>height_cm</th>\n",
       "      <th>weight_kg</th>\n",
       "      <th>body fat_%</th>\n",
       "      <th>diastolic</th>\n",
       "      <th>systolic</th>\n",
       "      <th>gripForce</th>\n",
       "      <th>sit and bend forward_cm</th>\n",
       "      <th>sit-ups counts</th>\n",
       "      <th>broad jump_cm</th>\n",
       "    </tr>\n",
       "  </thead>\n",
       "  <tbody>\n",
       "    <tr>\n",
       "      <th>0</th>\n",
       "      <td>0.687500</td>\n",
       "      <td>0.437746</td>\n",
       "      <td>0.242706</td>\n",
       "      <td>0.512164</td>\n",
       "      <td>0.646766</td>\n",
       "      <td>0.778723</td>\n",
       "      <td>0.182353</td>\n",
       "      <td>0.7500</td>\n",
       "      <td>0.716172</td>\n",
       "    </tr>\n",
       "    <tr>\n",
       "      <th>1</th>\n",
       "      <td>0.581395</td>\n",
       "      <td>0.263864</td>\n",
       "      <td>0.168435</td>\n",
       "      <td>0.492958</td>\n",
       "      <td>0.626866</td>\n",
       "      <td>0.516312</td>\n",
       "      <td>0.173529</td>\n",
       "      <td>0.6625</td>\n",
       "      <td>0.755776</td>\n",
       "    </tr>\n",
       "    <tr>\n",
       "      <th>2</th>\n",
       "      <td>0.793605</td>\n",
       "      <td>0.462433</td>\n",
       "      <td>0.226790</td>\n",
       "      <td>0.588988</td>\n",
       "      <td>0.756219</td>\n",
       "      <td>0.635461</td>\n",
       "      <td>0.155462</td>\n",
       "      <td>0.6125</td>\n",
       "      <td>0.597360</td>\n",
       "    </tr>\n",
       "    <tr>\n",
       "      <th>3</th>\n",
       "      <td>0.719477</td>\n",
       "      <td>0.400716</td>\n",
       "      <td>0.204244</td>\n",
       "      <td>0.486556</td>\n",
       "      <td>0.731343</td>\n",
       "      <td>0.587234</td>\n",
       "      <td>0.168908</td>\n",
       "      <td>0.6625</td>\n",
       "      <td>0.722772</td>\n",
       "    </tr>\n",
       "    <tr>\n",
       "      <th>4</th>\n",
       "      <td>0.709302</td>\n",
       "      <td>0.370304</td>\n",
       "      <td>0.187003</td>\n",
       "      <td>0.448143</td>\n",
       "      <td>0.631841</td>\n",
       "      <td>0.617021</td>\n",
       "      <td>0.218908</td>\n",
       "      <td>0.5625</td>\n",
       "      <td>0.716172</td>\n",
       "    </tr>\n",
       "  </tbody>\n",
       "</table>\n",
       "</div>"
      ],
      "text/plain": [
       "   height_cm  weight_kg  body fat_%  diastolic  systolic  gripForce  \\\n",
       "0   0.687500   0.437746    0.242706   0.512164  0.646766   0.778723   \n",
       "1   0.581395   0.263864    0.168435   0.492958  0.626866   0.516312   \n",
       "2   0.793605   0.462433    0.226790   0.588988  0.756219   0.635461   \n",
       "3   0.719477   0.400716    0.204244   0.486556  0.731343   0.587234   \n",
       "4   0.709302   0.370304    0.187003   0.448143  0.631841   0.617021   \n",
       "\n",
       "   sit and bend forward_cm  sit-ups counts  broad jump_cm  \n",
       "0                 0.182353          0.7500       0.716172  \n",
       "1                 0.173529          0.6625       0.755776  \n",
       "2                 0.155462          0.6125       0.597360  \n",
       "3                 0.168908          0.6625       0.722772  \n",
       "4                 0.218908          0.5625       0.716172  "
      ]
     },
     "execution_count": 6,
     "metadata": {},
     "output_type": "execute_result"
    }
   ],
   "source": [
    "# 독립변수 ↔ 종속변수\n",
    "df_x = df.drop(['gender', 'age', 'class'], axis=1)\n",
    "df_y = df[['gender']]\n",
    "\n",
    "# 정규화 스케일링\n",
    "MinMaxScaler = MinMaxScaler()\n",
    "df_minmax = MinMaxScaler.fit_transform(df_x)\n",
    "\n",
    "# 칼럼명 결합\n",
    "df_x = pd.DataFrame(data=df_minmax, columns=df_x.columns)\n",
    "df_x.head()"
   ]
  },
  {
   "cell_type": "code",
   "execution_count": 7,
   "id": "9a7ad147",
   "metadata": {},
   "outputs": [
    {
     "name": "stdout",
     "output_type": "stream",
     "text": [
      "train data 개수 :  9375\n",
      "test data 개수 :  4018\n"
     ]
    }
   ],
   "source": [
    "# train_test_split\n",
    "x_train, x_test, y_train, y_test = train_test_split(df_x, df_y, test_size=0.3, random_state=10)\n",
    "\n",
    "print(\"train data 개수 : \", len(x_train))\n",
    "print(\"test data 개수 : \", len(x_test))"
   ]
  },
  {
   "cell_type": "markdown",
   "id": "1661a861",
   "metadata": {},
   "source": [
    "---"
   ]
  },
  {
   "cell_type": "markdown",
   "id": "9c138364",
   "metadata": {},
   "source": [
    "## 선형 판별분석"
   ]
  },
  {
   "cell_type": "code",
   "execution_count": 8,
   "id": "f9ef5d5f",
   "metadata": {},
   "outputs": [],
   "source": [
    "from sklearn.discriminant_analysis import LinearDiscriminantAnalysis\n",
    "from sklearn.metrics import accuracy_score"
   ]
  },
  {
   "cell_type": "code",
   "execution_count": 9,
   "id": "38aa4d77",
   "metadata": {},
   "outputs": [
    {
     "name": "stdout",
     "output_type": "stream",
     "text": [
      "0.9784533333333333\n",
      "0.9810851169736187\n"
     ]
    }
   ],
   "source": [
    "# 모델 생성 및 적합\n",
    "LDA_1 = LinearDiscriminantAnalysis(store_covariance=True) # store_covariance 값이 True인 경우에만 공분산 행렬 제공 → LDA_1.covariance_[0]\n",
    "LDA_1.fit(x_train, y_train)\n",
    "\n",
    "# train and test\n",
    "y_train_pred = LDA_1.predict(x_train)\n",
    "y_test_pred = LDA_1.predict(x_test)\n",
    "\n",
    "# Accuracy\n",
    "print(accuracy_score(y_train, y_train_pred))\n",
    "print(accuracy_score(y_test, y_test_pred))"
   ]
  },
  {
   "cell_type": "code",
   "execution_count": 10,
   "id": "8f3c24d2",
   "metadata": {},
   "outputs": [
    {
     "name": "stdout",
     "output_type": "stream",
     "text": [
      "Intercept :  [-14.29894437]\n",
      "Coefficient :  [[ -1.35700815  26.12716198 -29.708912     4.0661269   10.03194981\n",
      "   18.0750803  -57.34544185  -3.81399695  15.48677609]]\n"
     ]
    }
   ],
   "source": [
    "# 모델의 Intercept 및 Coefficient 출력\n",
    "print(\"Intercept : \", LDA_1.intercept_)\n",
    "print(\"Coefficient : \", LDA_1.coef_)"
   ]
  },
  {
   "cell_type": "markdown",
   "id": "47b76545",
   "metadata": {},
   "source": [
    "---"
   ]
  },
  {
   "cell_type": "code",
   "execution_count": 11,
   "id": "c43dd48d",
   "metadata": {
    "scrolled": true
   },
   "outputs": [
    {
     "data": {
      "text/plain": [
       "<AxesSubplot: xlabel='lda_component'>"
      ]
     },
     "execution_count": 11,
     "metadata": {},
     "output_type": "execute_result"
    },
    {
     "data": {
      "image/png": "[encoded data removed]",
      "text/plain": [
       "<Figure size 1600x800 with 2 Axes>"
      ]
     },
     "metadata": {},
     "output_type": "display_data"
    }
   ],
   "source": [
    "# 차원축소\n",
    "\n",
    "# 주성분 1개로 설정\n",
    "lda_com = LinearDiscriminantAnalysis(n_components=1)\n",
    "lda_com.fit(x_train, y_train)\n",
    "\n",
    "df_lda_com = lda_com.transform(x_train)\n",
    "df_lda_component = pd.DataFrame(df_lda_com, columns=['lda_component'])\n",
    "\n",
    "# 종속변수 데이터 index 초기화 및 결합\n",
    "y_train_index = y_train.reset_index()\n",
    "df_lda_component['target'] = y_train_index['gender']\n",
    "\n",
    "# 차원축소 요소 분별력 비교 시각화 설정\n",
    "fig, axs = plt.subplots(figsize=(16,8), ncols=2, nrows=1)\n",
    "\n",
    "# 키 요소의 분별력\n",
    "sns.distplot(df.loc[df['gender']=='M', 'height_cm'], hist=True, kde=False, color='blue', label='man', ax=axs[0])\n",
    "sns.distplot(df.loc[df['gender']=='F', 'height_cm'], hist=True, kde=False, color='orange', label='woman', ax=axs[0])\n",
    "\n",
    "# 차원축소 주성분의 분별력\n",
    "sns.distplot(df_lda_component.loc[df_lda_component['target']=='M', 'lda_component'],hist=True, kde=False, color='blue', label='man', ax=axs[1])\n",
    "sns.distplot(df_lda_component.loc[df_lda_component['target']=='F', 'lda_component'], hist=True, kde=False, color='orange', label='woman', ax=axs[1])\n"
   ]
  },
  {
   "cell_type": "markdown",
   "id": "a2a13589",
   "metadata": {},
   "source": [
    "왼쪽에 비해서 오른쪽이 중복되는 공간이 작음"
   ]
  },
  {
   "cell_type": "markdown",
   "id": "b257a20d",
   "metadata": {},
   "source": [
    "---"
   ]
  },
  {
   "cell_type": "markdown",
   "id": "29f66c95",
   "metadata": {},
   "source": [
    "## 이차 판별분석"
   ]
  },
  {
   "cell_type": "code",
   "execution_count": 12,
   "id": "8f38f86a",
   "metadata": {},
   "outputs": [],
   "source": [
    "from sklearn.discriminant_analysis import QuadraticDiscriminantAnalysis"
   ]
  },
  {
   "cell_type": "code",
   "execution_count": 13,
   "id": "d5f4ce3c",
   "metadata": {},
   "outputs": [
    {
     "name": "stdout",
     "output_type": "stream",
     "text": [
      "0.98048\n",
      "0.9798407167745147\n"
     ]
    }
   ],
   "source": [
    "# 모델 생성 및 적합\n",
    "qda = QuadraticDiscriminantAnalysis(store_covariance=True)\n",
    "qda.fit(x_train, y_train)\n",
    "\n",
    "# train and test\n",
    "qda_y_train_pred = qda.predict(x_train)\n",
    "qda_y_test_pred = qda.predict(x_test)\n",
    "\n",
    "# Accuracy\n",
    "print(accuracy_score(y_train, qda_y_train_pred))\n",
    "print(accuracy_score(y_test, qda_y_test_pred))"
   ]
  },
  {
   "cell_type": "code",
   "execution_count": 14,
   "id": "468e8020",
   "metadata": {},
   "outputs": [],
   "source": [
    "from sklearn.metrics import classification_report"
   ]
  },
  {
   "cell_type": "code",
   "execution_count": 15,
   "id": "88d944de",
   "metadata": {},
   "outputs": [
    {
     "name": "stdout",
     "output_type": "stream",
     "text": [
      "              precision    recall  f1-score   support\n",
      "\n",
      "           F       0.97      0.97      0.97      1463\n",
      "           M       0.98      0.98      0.98      2555\n",
      "\n",
      "    accuracy                           0.98      4018\n",
      "   macro avg       0.98      0.98      0.98      4018\n",
      "weighted avg       0.98      0.98      0.98      4018\n",
      "\n"
     ]
    }
   ],
   "source": [
    "# 성능 리포트 출력\n",
    "print(classification_report(y_test, qda_y_test_pred))"
   ]
  }
 ],
 "metadata": {
  "kernelspec": {
   "display_name": "Python 3 (ipykernel)",
   "language": "python",
   "name": "python3"
  },
  "language_info": {
   "codemirror_mode": {
    "name": "ipython",
    "version": 3
   },
   "file_extension": ".py",
   "mimetype": "text/x-python",
   "name": "python",
   "nbconvert_exporter": "python",
   "pygments_lexer": "ipython3",
   "version": "3.8.13"
  }
 },
 "nbformat": 4,
 "nbformat_minor": 5
}
